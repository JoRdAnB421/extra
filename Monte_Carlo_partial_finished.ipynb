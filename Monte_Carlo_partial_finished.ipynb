{
  "nbformat": 4,
  "nbformat_minor": 0,
  "metadata": {
    "kernelspec": {
      "display_name": "Python 3",
      "language": "python",
      "name": "python3"
    },
    "language_info": {
      "codemirror_mode": {
        "name": "ipython",
        "version": 3
      },
      "file_extension": ".py",
      "mimetype": "text/x-python",
      "name": "python",
      "nbconvert_exporter": "python",
      "pygments_lexer": "ipython3",
      "version": "3.7.10"
    },
    "colab": {
      "name": "Monte_Carlo.ipynb",
      "provenance": []
    }
  },
  "cells": [
    {
      "cell_type": "markdown",
      "metadata": {
        "id": "4tjgVqZZlRXb"
      },
      "source": [
        "# Monte Carlo simulations"
      ]
    },
    {
      "cell_type": "markdown",
      "metadata": {
        "id": "gcz0d83ulRXk"
      },
      "source": [
        "## Monty Hall Problem:\n",
        "\n",
        "On a game show you have the choice of picking one of three doors. Behind one door there is a car. Behind the other two doors there are goats. You pick a door, and the host (who knows what’s behind each door), opens another door which has a goat. The host then asks you: do you want to stick with your original choice or choose the other closed door?\n",
        "\n",
        "Using Monte Carlo simulations, show if it is to your advantage to switch your choice of door... (Run many simulations, on set where the contestant always switches, and one where they never switch, then plot the win average for each sets)."
      ]
    },
    {
      "cell_type": "code",
      "metadata": {
        "colab": {
          "base_uri": "https://localhost:8080/"
        },
        "id": "on20KtwBlRXm",
        "outputId": "edab75a8-a2dc-4b76-fa68-9f8913021964"
      },
      "source": [
        "import numpy as np\n",
        "\n",
        "doors = {\"Door 1\":\"Goat\",\n",
        "         \"Door 2\":\"Car\",\n",
        "         \"Door 3\":\"Goat\"}\n",
        "\n",
        "num_of_contestants = 10000\n",
        "\n",
        "choice = np.random.uniform(0, 3, num_of_contestants)\n",
        "\n",
        "# Randomise whether the contestant switches or sticks\n",
        "sw_or_st = np.random.uniform(size = num_of_contestants)\n",
        "\n",
        "print(\"######### First set of Contestants #########\")\n",
        "# This is picking the first door\n",
        "door1num = len(choice[np.where((0<=choice)&(choice<1))])\n",
        "print(\"{} people choose 1st door, door 3 is opened to show a goat\".format(door1num))\n",
        "\n",
        "d1_2_d2 = len(sw_or_st[np.where((0<=choice)&(choice<1)&(sw_or_st<0.5))])\n",
        "d1_2_d1 = len(sw_or_st[np.where((0<=choice)&(choice<1)&(sw_or_st>0.5))])\n",
        "\n",
        "winners = (d1_2_d2)\n",
        "losers = (d1_2_d1)\n",
        "\n",
        "print(\"{0} people are winners and {1} people are losers\".format(winners, losers))\n",
        "\n",
        "\n"
      ],
      "execution_count": 11,
      "outputs": [
        {
          "output_type": "stream",
          "name": "stdout",
          "text": [
            "######### First set of Contestants #########\n",
            "3353 people choose 1st door, door 3 is opened to show a goat\n",
            "1680 people are winners and 1673 people are losers\n"
          ]
        }
      ]
    },
    {
      "cell_type": "code",
      "metadata": {
        "colab": {
          "base_uri": "https://localhost:8080/"
        },
        "id": "YqyCChEbJf0X",
        "outputId": "0afd7bf6-e054-4334-8915-9ba5fe731ccb"
      },
      "source": [
        "import numpy as np; import pandas as pd\n",
        "\n",
        "# Set up the doors and prizes \n",
        "doors = [1,2,3]\n",
        "prizes = [\"Goat\", \"Goat\", \"Car\"]\n",
        "comb = pd.DataFrame({\"Doors\":doors})\n",
        "\n",
        "# Permutating the prizes behind each door\n",
        "rand_prize = np.random.permutation(prizes)\n",
        "comb[\"Prize\"] = rand_prize\n",
        "\n",
        "# Randomly selecting the first choice of door\n",
        "N = int(1e6)\n",
        "first_picks = np.random.randint(1, 4, N)\n",
        "\n",
        "# Keeping track of the num of picks for each door on the first round\n",
        "num_first = np.array([np.count_nonzero(first_picks==1),\n",
        "                      np.count_nonzero(first_picks==2),\n",
        "                      np.count_nonzero(first_picks==3)])\n",
        "\n",
        "comb[\"1st Pick Num\"] = num_first\n",
        "\n",
        "print(comb)\n",
        "\n",
        "# If the constestants always swap their door.\n",
        "print(\"\\nIf the contestants always swaps their door\")\n",
        "goat_swap = sum(comb[\"1st Pick Num\"].loc[comb[\"Prize\"]==\"Goat\"].values)\n",
        "car_swap = comb[\"1st Pick Num\"].loc[comb[\"Prize\"]==\"Car\"].values[0]\n",
        "\n",
        "print(\"{0:.1%} of participants win and {1:.1%} lose\".format(goat_swap/N, car_swap/N))\n",
        "\n",
        "# If the contestants never swap their door\n",
        "print(\"\\nIf the contestants never swaps their door\")\n",
        "goat_dont_swap = sum(comb[\"1st Pick Num\"].loc[comb[\"Prize\"]==\"Goat\"].values)\n",
        "car_dont_swap = comb[\"1st Pick Num\"].loc[comb[\"Prize\"]==\"Car\"].values[0]\n",
        "\n",
        "print(\"{0:.1%} of participants lose and {1:.1%} win\".format(goat_swap/N, car_swap/N))\n"
      ],
      "execution_count": 73,
      "outputs": [
        {
          "output_type": "stream",
          "name": "stdout",
          "text": [
            "   Doors Prize  1st Pick Num\n",
            "0      1  Goat        333068\n",
            "1      2   Car        333082\n",
            "2      3  Goat        333850\n",
            "\n",
            "If the contestants always swaps their door\n",
            "66.7% of participants win and 33.3% lose\n",
            "\n",
            "If the contestants never swaps their door\n",
            "66.7% of participants lose and 33.3% win\n"
          ]
        }
      ]
    },
    {
      "cell_type": "markdown",
      "metadata": {
        "id": "gYO212LWlRXn"
      },
      "source": [
        "## The house always wins\n",
        "\n",
        "The more you play ... Here is a simplified Roulette game as an example of random walks: a ball is spun into a wheel with 37 slots, from 0 to 36. If you bet on even (or odd) and the ball lands on even (or odd) numbers, you get double your bet money, if it lands on odd (or even), you lose your bet money. If the ball lands on 0, you lose your bet money. So if you bet 1£ on even, and the ball lands on 14, you have now 2£.\n",
        "\n",
        "Build a simulating function that takes as input the player starting money, the amount they bet every time, and number of time they bet, and returns the final money amount.\n",
        "\n",
        "Run this simulation multiple times, averaging over many players, in cases where they all bet a few times and cases where they all bet many times."
      ]
    },
    {
      "cell_type": "code",
      "metadata": {
        "id": "NCSR-7W1lRXo"
      },
      "source": [
        ""
      ],
      "execution_count": null,
      "outputs": []
    }
  ]
}